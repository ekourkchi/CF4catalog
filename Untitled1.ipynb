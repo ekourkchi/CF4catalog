{
 "cells": [
  {
   "cell_type": "code",
   "execution_count": 1,
   "metadata": {},
   "outputs": [],
   "source": [
    "import sys\n",
    "import time\n",
    "import os\n",
    "import subprocess\n",
    "import math\n",
    "import matplotlib.pyplot as plt\n",
    "import numpy as np\n",
    "from astropy.table import Table, Column \n",
    "from scipy.stats import linregress\n",
    "from scipy import interpolate\n",
    "from scipy import polyval, polyfit\n",
    "from scipy.optimize import curve_fit\n",
    "from scipy import odr\n",
    "import pylab as py\n",
    "from matplotlib import gridspec\n",
    "import sklearn.datasets as ds\n",
    "from sklearn.ensemble import RandomForestRegressor\n",
    "from sklearn.datasets import make_regression\n",
    "import corner\n",
    "import emcee\n",
    "import scipy.optimize as op\n",
    "from scipy.linalg import cholesky, inv,det\n",
    "from scipy.optimize import minimize\n",
    "import random\n",
    "from astropy.table import Table, Column\n",
    "import pandas as pd\n",
    "import numpy as np\n",
    "from datetime import datetime\n",
    "import time"
   ]
  },
  {
   "cell_type": "code",
   "execution_count": 3,
   "metadata": {},
   "outputs": [],
   "source": [
    "pow_min, pow_max, Nbins = -1.25, 1.477, 23\n",
    "\n",
    "logrper = np.linspace(pow_min, pow_max, Nbins)\n",
    "edges = 10**logrper"
   ]
  },
  {
   "cell_type": "code",
   "execution_count": 4,
   "metadata": {},
   "outputs": [
    {
     "data": {
      "text/plain": [
       "array([ 0.05623413,  0.07480912,  0.09951971,  0.13239258,  0.17612385,\n",
       "        0.23430024,  0.31169316,  0.41465014,  0.55161538,  0.73382231,\n",
       "        0.97621495,  1.29867356,  1.72764515,  2.29831256,  3.05748008,\n",
       "        4.06741215,  5.41094011,  7.19825575,  9.57594886, 12.7390301 ,\n",
       "       16.94692506, 22.5447516 , 29.99162519])"
      ]
     },
     "execution_count": 4,
     "metadata": {},
     "output_type": "execute_result"
    }
   ],
   "source": [
    "edges"
   ]
  },
  {
   "cell_type": "code",
   "execution_count": 5,
   "metadata": {},
   "outputs": [],
   "source": [
    "X = [0.0130674191,\n",
    "0.0212775031,\n",
    "0.0344560773,\n",
    "0.0496146031,\n",
    "0.0729127814,\n",
    "0.109986945,\n",
    "0.198233977,\n",
    "0.426438975,\n",
    "0.645697576,\n",
    "0.855745348,\n",
    "1.13585628,\n",
    "1.52192661,\n",
    "2.02280058,\n",
    "2.68984736,\n",
    "3.59005041,\n",
    "4.7643034,\n",
    "6.33806698,\n",
    "8.43305071,\n",
    "11.2260225,\n",
    "14.9180942,\n",
    "19.8527403,\n",
    "26.4182288]"
   ]
  },
  {
   "cell_type": "code",
   "execution_count": 6,
   "metadata": {},
   "outputs": [
    {
     "data": {
      "text/plain": [
       "23"
      ]
     },
     "execution_count": 6,
     "metadata": {},
     "output_type": "execute_result"
    }
   ],
   "source": [
    "len(edges)"
   ]
  },
  {
   "cell_type": "code",
   "execution_count": 12,
   "metadata": {},
   "outputs": [
    {
     "data": {
      "text/plain": [
       "1.4695830832918626"
      ]
     },
     "execution_count": 12,
     "metadata": {},
     "output_type": "execute_result"
    }
   ],
   "source": [
    "X[4]/X[3]\n"
   ]
  },
  {
   "cell_type": "code",
   "execution_count": 11,
   "metadata": {},
   "outputs": [
    {
     "data": {
      "text/plain": [
       "1.5084727655170758"
      ]
     },
     "execution_count": 11,
     "metadata": {},
     "output_type": "execute_result"
    }
   ],
   "source": [
    "X[5]/X[4]"
   ]
  },
  {
   "cell_type": "code",
   "execution_count": 13,
   "metadata": {},
   "outputs": [
    {
     "data": {
      "text/plain": [
       "1.8023409687395173"
      ]
     },
     "execution_count": 13,
     "metadata": {},
     "output_type": "execute_result"
    }
   ],
   "source": [
    "X[6]/X[5]"
   ]
  },
  {
   "cell_type": "code",
   "execution_count": 16,
   "metadata": {},
   "outputs": [
    {
     "name": "stdout",
     "output_type": "stream",
     "text": [
      "\u001b[33mDEPRECATION: Python 2.7 reached the end of its life on January 1st, 2020. Please upgrade your Python as Python 2.7 is no longer maintained. A future version of pip will drop support for Python 2.7. More details about Python 2 support in pip, can be found at https://pip.pypa.io/en/latest/development/release-process/#python-2-support\u001b[0m\n",
      "Collecting pycf3\n",
      "  Using cached pycf3-2019.10.tar.gz (10 kB)\n",
      "\u001b[31m    ERROR: Command errored out with exit status 1:\n",
      "     command: /home/ehsan/anaconda2/bin/python2.7 -c 'import sys, setuptools, tokenize; sys.argv[0] = '\"'\"'/tmp/pip-install-5EShgp/pycf3/setup.py'\"'\"'; __file__='\"'\"'/tmp/pip-install-5EShgp/pycf3/setup.py'\"'\"';f=getattr(tokenize, '\"'\"'open'\"'\"', open)(__file__);code=f.read().replace('\"'\"'\\r\\n'\"'\"', '\"'\"'\\n'\"'\"');f.close();exec(compile(code, __file__, '\"'\"'exec'\"'\"'))' egg_info --egg-base /tmp/pip-install-5EShgp/pycf3/pip-egg-info\n",
      "         cwd: /tmp/pip-install-5EShgp/pycf3/\n",
      "    Complete output (5 lines):\n",
      "    Traceback (most recent call last):\n",
      "      File \"<string>\", line 1, in <module>\n",
      "      File \"/tmp/pip-install-5EShgp/pycf3/setup.py\", line 39, in <module>\n",
      "        with open(PATH / \"README.rst\") as fp:\n",
      "    TypeError: coercing to Unicode: need string or buffer, PosixPath found\n",
      "    ----------------------------------------\u001b[0m\n",
      "\u001b[31mERROR: Command errored out with exit status 1: python setup.py egg_info Check the logs for full command output.\u001b[0m\n"
     ]
    }
   ],
   "source": [
    "!pip install pycf3"
   ]
  },
  {
   "cell_type": "code",
   "execution_count": 17,
   "metadata": {},
   "outputs": [
    {
     "ename": "ImportError",
     "evalue": "No module named pycf3",
     "output_type": "error",
     "traceback": [
      "\u001b[0;31m---------------------------------------------------------------------------\u001b[0m",
      "\u001b[0;31mImportError\u001b[0m                               Traceback (most recent call last)",
      "\u001b[0;32m<ipython-input-17-4f88ef6eea28>\u001b[0m in \u001b[0;36m<module>\u001b[0;34m()\u001b[0m\n\u001b[0;32m----> 1\u001b[0;31m \u001b[0;32mimport\u001b[0m \u001b[0mpycf3\u001b[0m\u001b[0;34m\u001b[0m\u001b[0m\n\u001b[0m",
      "\u001b[0;31mImportError\u001b[0m: No module named pycf3"
     ]
    }
   ],
   "source": [
    "import pycf3\n"
   ]
  },
  {
   "cell_type": "code",
   "execution_count": null,
   "metadata": {},
   "outputs": [],
   "source": []
  },
  {
   "cell_type": "code",
   "execution_count": null,
   "metadata": {},
   "outputs": [],
   "source": []
  },
  {
   "cell_type": "code",
   "execution_count": null,
   "metadata": {},
   "outputs": [],
   "source": []
  },
  {
   "cell_type": "code",
   "execution_count": null,
   "metadata": {},
   "outputs": [],
   "source": []
  }
 ],
 "metadata": {
  "kernelspec": {
   "display_name": "Python 2",
   "language": "python",
   "name": "python2"
  },
  "language_info": {
   "codemirror_mode": {
    "name": "ipython",
    "version": 2
   },
   "file_extension": ".py",
   "mimetype": "text/x-python",
   "name": "python",
   "nbconvert_exporter": "python",
   "pygments_lexer": "ipython2",
   "version": "2.7.15"
  }
 },
 "nbformat": 4,
 "nbformat_minor": 2
}
