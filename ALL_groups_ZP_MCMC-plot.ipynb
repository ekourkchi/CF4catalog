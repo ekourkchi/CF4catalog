{
 "cells": [
  {
   "cell_type": "code",
   "execution_count": 1,
   "metadata": {},
   "outputs": [],
   "source": [
    "import sys\n",
    "import time\n",
    "import os\n",
    "import subprocess\n",
    "import math\n",
    "import matplotlib.pyplot as plt\n",
    "import numpy as np\n",
    "from scipy.stats import linregress\n",
    "from scipy import interpolate\n",
    "from scipy import polyval, polyfit\n",
    "from scipy.optimize import curve_fit\n",
    "from scipy import odr\n",
    "import pylab as py\n",
    "from matplotlib import gridspec\n",
    "import sklearn.datasets as ds\n",
    "from sklearn.ensemble import RandomForestRegressor\n",
    "from sklearn.datasets import make_regression\n",
    "import corner\n",
    "import emcee\n",
    "import scipy.optimize as op\n",
    "from scipy.linalg import cholesky, inv,det\n",
    "from scipy.optimize import minimize\n",
    "import random\n",
    "from astropy.table import Table, Column\n",
    "import pandas as pd\n",
    "import numpy as np\n",
    "from datetime import datetime\n",
    "import time\n",
    "\n",
    "import warnings\n",
    "warnings.filterwarnings(\"ignore\")"
   ]
  },
  {
   "cell_type": "code",
   "execution_count": 2,
   "metadata": {},
   "outputs": [],
   "source": [
    "## This function allows to execute the OS commands\n",
    "def xcmd(cmd, verbose=True):\n",
    "    \"\"\"Runs an OS command\n",
    "    :param cmd: terminal command\n",
    "    :type cmd: ``str``\n",
    "    :param verbose: printing the details, default True \n",
    "    :type verbose: ``boolean``\n",
    "    :return: OS outputs\n",
    "    :rtype: ``str``\n",
    "    \"\"\"\n",
    "\n",
    "    if verbose: print('\\n'+cmd)\n",
    "\n",
    "    tmp=os.popen(cmd)\n",
    "    output=''\n",
    "    for x in tmp: output+=x\n",
    "    if 'abort' in output:\n",
    "        failure=True\n",
    "    else:\n",
    "        failure=tmp.close()\n",
    "    if False:\n",
    "        print('execution of %s failed' % cmd)\n",
    "        print('error is as follows', output)\n",
    "        sys.exit()\n",
    "    else:\n",
    "        return output\n"
   ]
  },
  {
   "cell_type": "code",
   "execution_count": 3,
   "metadata": {},
   "outputs": [
    {
     "name": "stdout",
     "output_type": "stream",
     "text": [
      "npz attributes:  ['arr_0']\n"
     ]
    }
   ],
   "source": [
    "npzName = \"ALL_galaxy_ZP_.npz\"\n",
    "\n",
    "npzfile = np.load(npzName)\n",
    "print(\"npz attributes: \", npzfile.files)\n",
    "NPZsamples = npzfile['arr_0']"
   ]
  },
  {
   "cell_type": "code",
   "execution_count": 4,
   "metadata": {},
   "outputs": [
    {
     "data": {
      "text/plain": [
       "-0.00024594380713538266"
      ]
     },
     "execution_count": 4,
     "metadata": {},
     "output_type": "execute_result"
    }
   ],
   "source": [
    "mean = np.mean(NPZsamples[:,0])\n",
    "\n",
    "mean"
   ]
  },
  {
   "cell_type": "code",
   "execution_count": 5,
   "metadata": {},
   "outputs": [],
   "source": [
    "NPZsamples[:,0] -= mean"
   ]
  },
  {
   "cell_type": "code",
   "execution_count": 16,
   "metadata": {},
   "outputs": [
    {
     "data": {
      "image/png": "[encoded data removed]",
      "text/plain": [
       "<Figure size 396x396 with 4 Axes>"
      ]
     },
     "metadata": {
      "needs_background": "light"
     },
     "output_type": "display_data"
    }
   ],
   "source": [
    "theta = map(lambda v: [v[1], v[2]-v[1], v[1]-v[0]],\n",
    "                            zip(*np.percentile(NPZsamples, \n",
    "                            [16, 50, 84],\n",
    "                            axis=0)))\n",
    "\n",
    "truths=[t[0] for t in theta]\n",
    "truths[0] = 0\n",
    "\n",
    "labs = [\"calibrator\", \"ZP-adjust\"]\n",
    "\n",
    "labels = ['                  '+r'$\\Delta\\/ \\mu_{'+cat+'}$' for cat in [labs[0]]]+[\"                  ZP adjust\"]\n",
    "\n",
    "\n",
    "fig = corner.corner(NPZsamples, labels=labels, \n",
    "                    truths=truths, truth_color='firebrick',\n",
    "                    levels=(1-np.exp(-1./8),1-np.exp(-0.5),1-np.exp(-0.5*4),1-np.exp(-0.5*9)),\n",
    "                    show_titles=True, fill_contours=True, plot_density=True,\n",
    "                    quantiles=[0.16, 0.84], \n",
    "                    scale_hist=False,space=0, \n",
    "                    title_kwargs={\"fontsize\": 18}, \n",
    "                    title_fmt=\".3f\",\n",
    "                    range=[(t-0.15,t+0.15) for t in truths]\n",
    "                   )\n",
    "\n",
    "m = 0 \n",
    "n_cat = len(labs)\n",
    "i_cat = 0\n",
    "for ax in fig.get_axes():\n",
    "    ax.tick_params(axis='both', labelsize=12)\n",
    "    \n",
    "    lbl = ax.xaxis.get_label()\n",
    "    lbl.set_fontsize(22)\n",
    "    txt = lbl.get_text().strip()\n",
    "    lbl.set_text(txt)\n",
    "    lbl.set_linespacing(50)\n",
    "    lbl = ax.yaxis.get_label()\n",
    "    lbl.set_fontsize(22)\n",
    "    txt = lbl.get_text().strip()\n",
    "    lbl.set_text(txt)    \n",
    "    \n",
    "    \n",
    "    ax.tick_params(which='major', length=3, width=1., direction='out')\n",
    "    \n",
    "    Ylm = ax.get_ylim() ; Xlm = ax.get_xlim()\n",
    "    x0 = -0.1*Xlm[0]+1.1*Xlm[1]\n",
    "    \n",
    "    if m%(n_cat+1)==0:\n",
    "        y0 = 0.2*Ylm[0]+0.80*Ylm[1]\n",
    "#         dx = df[['DM_'+catalogs[i_cat]]].dropna()\n",
    "#         ax.text(x0,y0, r\"$total: $\"+str(122), fontsize=16, color='k')\n",
    "        \n",
    "        y0 = 0.35*Ylm[0]+0.65*Ylm[1]\n",
    "#         other_DMs = [\"DM_\"+c for c in catalogs if c != catalogs[i_cat]]\n",
    "        \n",
    "#         df[\"sumDM\"] = df[other_DMs].sum(axis=1)\n",
    "#         df[\"sumDM\"][df[\"sumDM\"]==0] = np.nan\n",
    "        \n",
    "#         dx = df[['sumDM', 'DM_'+catalogs[i_cat]]].dropna()\n",
    "#         ax.text(x0,y0, r\"$intersect: $\"+str(len(dx)), fontsize=16, color='maroon')\n",
    "        i_cat += 1\n",
    "\n",
    "\n",
    "    m+=1\n",
    "\n"
   ]
  },
  {
   "cell_type": "code",
   "execution_count": null,
   "metadata": {},
   "outputs": [],
   "source": []
  },
  {
   "cell_type": "code",
   "execution_count": null,
   "metadata": {},
   "outputs": [],
   "source": []
  },
  {
   "cell_type": "code",
   "execution_count": null,
   "metadata": {},
   "outputs": [],
   "source": []
  },
  {
   "cell_type": "code",
   "execution_count": null,
   "metadata": {},
   "outputs": [],
   "source": []
  }
 ],
 "metadata": {
  "kernelspec": {
   "display_name": "Python 3",
   "language": "python",
   "name": "python3"
  },
  "language_info": {
   "codemirror_mode": {
    "name": "ipython",
    "version": 3
   },
   "file_extension": ".py",
   "mimetype": "text/x-python",
   "name": "python",
   "nbconvert_exporter": "python",
   "pygments_lexer": "ipython3",
   "version": "3.8.5"
  }
 },
 "nbformat": 4,
 "nbformat_minor": 4
}
