{
 "cells": [
  {
   "cell_type": "code",
   "execution_count": 57,
   "metadata": {},
   "outputs": [],
   "source": [
    "import sys\n",
    "import time\n",
    "import os\n",
    "import subprocess\n",
    "import math\n",
    "import matplotlib.pyplot as plt\n",
    "import numpy as np\n",
    "from astropy.table import Table, Column \n",
    "from scipy.stats import linregress\n",
    "from scipy import interpolate\n",
    "from scipy import polyval, polyfit\n",
    "from scipy.optimize import curve_fit\n",
    "from scipy import odr\n",
    "import pylab as py\n",
    "from matplotlib import gridspec\n",
    "import sklearn.datasets as ds\n",
    "from sklearn.ensemble import RandomForestRegressor\n",
    "from sklearn.datasets import make_regression\n",
    "import corner\n",
    "import emcee\n",
    "import scipy.optimize as op\n",
    "from scipy.linalg import cholesky, inv,det\n",
    "from scipy.optimize import minimize\n",
    "import random\n",
    "from astropy.table import Table, Column\n",
    "import pandas as pd\n",
    "import numpy as np\n",
    "from datetime import datetime\n",
    "import time"
   ]
  },
  {
   "cell_type": "code",
   "execution_count": 58,
   "metadata": {},
   "outputs": [
    {
     "name": "stdout",
     "output_type": "stream",
     "text": [
      "38370\n"
     ]
    },
    {
     "data": {
      "text/html": [
       "<div>\n",
       "<style scoped>\n",
       "    .dataframe tbody tr th:only-of-type {\n",
       "        vertical-align: middle;\n",
       "    }\n",
       "\n",
       "    .dataframe tbody tr th {\n",
       "        vertical-align: top;\n",
       "    }\n",
       "\n",
       "    .dataframe thead th {\n",
       "        text-align: right;\n",
       "    }\n",
       "</style>\n",
       "<table border=\"1\" class=\"dataframe\">\n",
       "  <thead>\n",
       "    <tr style=\"text-align: right;\">\n",
       "      <th></th>\n",
       "      <th>1PGC</th>\n",
       "      <th>Nest</th>\n",
       "      <th>Vcmb</th>\n",
       "      <th>Vmod</th>\n",
       "      <th>DM_av</th>\n",
       "      <th>eDM</th>\n",
       "      <th>av_flag</th>\n",
       "      <th>DM_6dfgs</th>\n",
       "      <th>eDM_6dfgs</th>\n",
       "      <th>6dfgs_flag</th>\n",
       "      <th>...</th>\n",
       "      <th>fpsdss_flag</th>\n",
       "      <th>DM_smac</th>\n",
       "      <th>eDM_smac</th>\n",
       "      <th>smac_flag</th>\n",
       "      <th>DM_enear</th>\n",
       "      <th>eDM_enear</th>\n",
       "      <th>enear_flag</th>\n",
       "      <th>DM_efar</th>\n",
       "      <th>eDM_efar</th>\n",
       "      <th>efar_flag</th>\n",
       "    </tr>\n",
       "    <tr>\n",
       "      <th>PGC</th>\n",
       "      <th></th>\n",
       "      <th></th>\n",
       "      <th></th>\n",
       "      <th></th>\n",
       "      <th></th>\n",
       "      <th></th>\n",
       "      <th></th>\n",
       "      <th></th>\n",
       "      <th></th>\n",
       "      <th></th>\n",
       "      <th></th>\n",
       "      <th></th>\n",
       "      <th></th>\n",
       "      <th></th>\n",
       "      <th></th>\n",
       "      <th></th>\n",
       "      <th></th>\n",
       "      <th></th>\n",
       "      <th></th>\n",
       "      <th></th>\n",
       "      <th></th>\n",
       "    </tr>\n",
       "  </thead>\n",
       "  <tbody>\n",
       "    <tr>\n",
       "      <th>64</th>\n",
       "      <td>72642</td>\n",
       "      <td>200033</td>\n",
       "      <td>15324</td>\n",
       "      <td>15938</td>\n",
       "      <td>36.73</td>\n",
       "      <td>0.63</td>\n",
       "      <td>0</td>\n",
       "      <td>36.73</td>\n",
       "      <td>0.63</td>\n",
       "      <td>0</td>\n",
       "      <td>...</td>\n",
       "      <td>0</td>\n",
       "      <td>0.0</td>\n",
       "      <td>0.0</td>\n",
       "      <td>0</td>\n",
       "      <td>0.0</td>\n",
       "      <td>0.0</td>\n",
       "      <td>0</td>\n",
       "      <td>0.0</td>\n",
       "      <td>0.0</td>\n",
       "      <td>0</td>\n",
       "    </tr>\n",
       "    <tr>\n",
       "      <th>66</th>\n",
       "      <td>72642</td>\n",
       "      <td>200033</td>\n",
       "      <td>14725</td>\n",
       "      <td>15292</td>\n",
       "      <td>36.41</td>\n",
       "      <td>0.59</td>\n",
       "      <td>0</td>\n",
       "      <td>36.41</td>\n",
       "      <td>0.59</td>\n",
       "      <td>0</td>\n",
       "      <td>...</td>\n",
       "      <td>0</td>\n",
       "      <td>0.0</td>\n",
       "      <td>0.0</td>\n",
       "      <td>0</td>\n",
       "      <td>0.0</td>\n",
       "      <td>0.0</td>\n",
       "      <td>0</td>\n",
       "      <td>0.0</td>\n",
       "      <td>0.0</td>\n",
       "      <td>0</td>\n",
       "    </tr>\n",
       "    <tr>\n",
       "      <th>114</th>\n",
       "      <td>72642</td>\n",
       "      <td>200033</td>\n",
       "      <td>14397</td>\n",
       "      <td>14939</td>\n",
       "      <td>35.63</td>\n",
       "      <td>0.59</td>\n",
       "      <td>0</td>\n",
       "      <td>35.63</td>\n",
       "      <td>0.59</td>\n",
       "      <td>0</td>\n",
       "      <td>...</td>\n",
       "      <td>0</td>\n",
       "      <td>0.0</td>\n",
       "      <td>0.0</td>\n",
       "      <td>0</td>\n",
       "      <td>0.0</td>\n",
       "      <td>0.0</td>\n",
       "      <td>0</td>\n",
       "      <td>0.0</td>\n",
       "      <td>0.0</td>\n",
       "      <td>0</td>\n",
       "    </tr>\n",
       "    <tr>\n",
       "      <th>115</th>\n",
       "      <td>115</td>\n",
       "      <td>0</td>\n",
       "      <td>14005</td>\n",
       "      <td>14518</td>\n",
       "      <td>36.38</td>\n",
       "      <td>0.59</td>\n",
       "      <td>0</td>\n",
       "      <td>36.38</td>\n",
       "      <td>0.59</td>\n",
       "      <td>0</td>\n",
       "      <td>...</td>\n",
       "      <td>0</td>\n",
       "      <td>0.0</td>\n",
       "      <td>0.0</td>\n",
       "      <td>0</td>\n",
       "      <td>0.0</td>\n",
       "      <td>0.0</td>\n",
       "      <td>0</td>\n",
       "      <td>0.0</td>\n",
       "      <td>0.0</td>\n",
       "      <td>0</td>\n",
       "    </tr>\n",
       "    <tr>\n",
       "      <th>123</th>\n",
       "      <td>123</td>\n",
       "      <td>205549</td>\n",
       "      <td>10966</td>\n",
       "      <td>11282</td>\n",
       "      <td>36.02</td>\n",
       "      <td>0.56</td>\n",
       "      <td>0</td>\n",
       "      <td>36.02</td>\n",
       "      <td>0.56</td>\n",
       "      <td>0</td>\n",
       "      <td>...</td>\n",
       "      <td>0</td>\n",
       "      <td>0.0</td>\n",
       "      <td>0.0</td>\n",
       "      <td>0</td>\n",
       "      <td>0.0</td>\n",
       "      <td>0.0</td>\n",
       "      <td>0</td>\n",
       "      <td>0.0</td>\n",
       "      <td>0.0</td>\n",
       "      <td>0</td>\n",
       "    </tr>\n",
       "  </tbody>\n",
       "</table>\n",
       "<p>5 rows × 22 columns</p>\n",
       "</div>"
      ],
      "text/plain": [
       "      1PGC    Nest   Vcmb   Vmod  DM_av   eDM  av_flag  DM_6dfgs  eDM_6dfgs  \\\n",
       "PGC                                                                           \n",
       "64   72642  200033  15324  15938  36.73  0.63        0     36.73       0.63   \n",
       "66   72642  200033  14725  15292  36.41  0.59        0     36.41       0.59   \n",
       "114  72642  200033  14397  14939  35.63  0.59        0     35.63       0.59   \n",
       "115    115       0  14005  14518  36.38  0.59        0     36.38       0.59   \n",
       "123    123  205549  10966  11282  36.02  0.56        0     36.02       0.56   \n",
       "\n",
       "     6dfgs_flag  ...  fpsdss_flag  DM_smac  eDM_smac  smac_flag  DM_enear  \\\n",
       "PGC              ...                                                        \n",
       "64            0  ...            0      0.0       0.0          0       0.0   \n",
       "66            0  ...            0      0.0       0.0          0       0.0   \n",
       "114           0  ...            0      0.0       0.0          0       0.0   \n",
       "115           0  ...            0      0.0       0.0          0       0.0   \n",
       "123           0  ...            0      0.0       0.0          0       0.0   \n",
       "\n",
       "     eDM_enear  enear_flag  DM_efar  eDM_efar  efar_flag  \n",
       "PGC                                                       \n",
       "64         0.0           0      0.0       0.0          0  \n",
       "66         0.0           0      0.0       0.0          0  \n",
       "114        0.0           0      0.0       0.0          0  \n",
       "115        0.0           0      0.0       0.0          0  \n",
       "123        0.0           0      0.0       0.0          0  \n",
       "\n",
       "[5 rows x 22 columns]"
      ]
     },
     "execution_count": 58,
     "metadata": {},
     "output_type": "execute_result"
    }
   ],
   "source": [
    "df = pd.read_csv('test.csv', delimiter='|')\n",
    "df = df.rename(columns=lambda x: x.strip())\n",
    "df = df.set_index('PGC')\n",
    "\n",
    "print(len(df))\n",
    "df.head()"
   ]
  },
  {
   "cell_type": "code",
   "execution_count": 73,
   "metadata": {},
   "outputs": [
    {
     "data": {
      "text/plain": [
       "[<matplotlib.lines.Line2D at 0x7f42bc57de50>]"
      ]
     },
     "execution_count": 73,
     "metadata": {},
     "output_type": "execute_result"
    },
    {
     "data": {
      "image/png": "[encoded data removed]",
      "text/plain": [
       "<Figure size 500x500 with 1 Axes>"
      ]
     },
     "metadata": {
      "needs_background": "light"
     },
     "output_type": "display_data"
    }
   ],
   "source": [
    "fig = py.figure(figsize=(5,5), dpi=100)    \n",
    "fig.subplots_adjust(wspace=0, top=0.9, bottom=0.12, left=0.05, right=0.98)\n",
    "ax = fig.add_subplot(111)\n",
    "\n",
    "indx = ((df['smac_flag']==0) & (df.DM_av>0)) & ((df[\"smac_flag\"]==0) & (df.DM_smac>0))\n",
    "\n",
    "X = df[indx].Vcmb.values\n",
    "Y = df[indx].DM_av.values-df[indx].DM_smac.values\n",
    "ax.plot(X, Y, 'k.', alpha=0.05)\n",
    "\n",
    "for i in np.arange(0,20000,1000):\n",
    "    xp = []\n",
    "    yp = []\n",
    "    for ii in range(len(X)):\n",
    "        xi = X[ii]\n",
    "        if xi>=i and xi<i+1000:\n",
    "            xp.append(xi)\n",
    "            yp.append(Y[ii])\n",
    "    if len(xp)>0:\n",
    "        ax.errorbar(np.median(xp), np.median(yp), yerr=np.std(yp), xerr=np.std(xp), fmt='o', \n",
    "                    color='r', ms=6)   \n",
    "        \n",
    "ax.plot([0,20000], [0,0], ':', color='purple')\n"
   ]
  },
  {
   "cell_type": "code",
   "execution_count": 74,
   "metadata": {},
   "outputs": [
    {
     "data": {
      "text/plain": [
       "690"
      ]
     },
     "execution_count": 74,
     "metadata": {},
     "output_type": "execute_result"
    }
   ],
   "source": [
    "len(X)"
   ]
  },
  {
   "cell_type": "code",
   "execution_count": 75,
   "metadata": {},
   "outputs": [
    {
     "data": {
      "text/plain": [
       "(0.0, -0.003376811594202556)"
      ]
     },
     "execution_count": 75,
     "metadata": {},
     "output_type": "execute_result"
    }
   ],
   "source": [
    "np.median(Y), np.mean(Y)"
   ]
  },
  {
   "cell_type": "code",
   "execution_count": null,
   "metadata": {},
   "outputs": [],
   "source": []
  },
  {
   "cell_type": "code",
   "execution_count": null,
   "metadata": {},
   "outputs": [],
   "source": []
  }
 ],
 "metadata": {
  "kernelspec": {
   "display_name": "Python 3",
   "language": "python",
   "name": "python3"
  },
  "language_info": {
   "codemirror_mode": {
    "name": "ipython",
    "version": 3
   },
   "file_extension": ".py",
   "mimetype": "text/x-python",
   "name": "python",
   "nbconvert_exporter": "python",
   "pygments_lexer": "ipython3",
   "version": "3.8.5"
  }
 },
 "nbformat": 4,
 "nbformat_minor": 4
}
